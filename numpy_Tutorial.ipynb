{
  "cells": [
    {
      "cell_type": "markdown",
      "metadata": {
        "id": "view-in-github",
        "colab_type": "text"
      },
      "source": [
        "<a href=\"https://colab.research.google.com/github/rajan-dhinoja/python_libraries/blob/main/numpy_Tutorial.ipynb\" target=\"_parent\"><img src=\"https://colab.research.google.com/assets/colab-badge.svg\" alt=\"Open In Colab\"/></a>"
      ]
    },
    {
      "cell_type": "markdown",
      "id": "cb1e999a-145f-4819-91cf-aca360ea1df4",
      "metadata": {
        "id": "cb1e999a-145f-4819-91cf-aca360ea1df4"
      },
      "source": [
        "# Numpy Tutorial"
      ]
    },
    {
      "cell_type": "code",
      "execution_count": null,
      "id": "a8d6b52d-afa7-4e18-a9a7-026ce5b01d2c",
      "metadata": {
        "id": "a8d6b52d-afa7-4e18-a9a7-026ce5b01d2c"
      },
      "outputs": [],
      "source": [
        "import numpy as np"
      ]
    },
    {
      "cell_type": "code",
      "execution_count": null,
      "id": "668fb029-47d0-4447-b163-a2cf7d79a72b",
      "metadata": {
        "id": "668fb029-47d0-4447-b163-a2cf7d79a72b"
      },
      "outputs": [],
      "source": [
        "myarr = np.array([3, 45 ,6, 70])"
      ]
    },
    {
      "cell_type": "code",
      "execution_count": null,
      "id": "25234e2f-2703-4636-856d-1681d56c2c84",
      "metadata": {
        "id": "25234e2f-2703-4636-856d-1681d56c2c84",
        "outputId": "9fd066e9-5134-4146-f03b-b12fe3d59abd"
      },
      "outputs": [
        {
          "data": {
            "text/plain": [
              "array([ 3, 45,  6, 70])"
            ]
          },
          "execution_count": 3,
          "metadata": {},
          "output_type": "execute_result"
        }
      ],
      "source": [
        "myarr"
      ]
    },
    {
      "cell_type": "code",
      "execution_count": null,
      "id": "156ef0c0-f00f-4995-89e5-df858ea1f2bf",
      "metadata": {
        "id": "156ef0c0-f00f-4995-89e5-df858ea1f2bf"
      },
      "outputs": [],
      "source": [
        "# here in below cells, np.int describes the bit of a number in array\n",
        "myarr = np.array([3, 45,6, 70], np.int8)"
      ]
    },
    {
      "cell_type": "code",
      "execution_count": null,
      "id": "da0a4379-3389-4420-97ee-4c6f903e3269",
      "metadata": {
        "id": "da0a4379-3389-4420-97ee-4c6f903e3269",
        "outputId": "48d43b9f-9537-428f-aa49-34222ed56953"
      },
      "outputs": [
        {
          "data": {
            "text/plain": [
              "array([ 3, 45,  6, 70], dtype=int8)"
            ]
          },
          "execution_count": 5,
          "metadata": {},
          "output_type": "execute_result"
        }
      ],
      "source": [
        "myarr"
      ]
    },
    {
      "cell_type": "code",
      "execution_count": null,
      "id": "d560d0d8-2bc9-499f-a619-e54c847323b2",
      "metadata": {
        "id": "d560d0d8-2bc9-499f-a619-e54c847323b2"
      },
      "outputs": [],
      "source": [
        "myarr2 = np.array([3, 45555555,6, 70], np.int32)"
      ]
    },
    {
      "cell_type": "code",
      "execution_count": null,
      "id": "70e64948-615e-4f20-b88b-99fac9647292",
      "metadata": {
        "id": "70e64948-615e-4f20-b88b-99fac9647292",
        "outputId": "d7d61a27-3906-4a91-97c5-b9bc9b4d46e2"
      },
      "outputs": [
        {
          "data": {
            "text/plain": [
              "array([       3, 45555555,        6,       70], dtype=int32)"
            ]
          },
          "execution_count": 7,
          "metadata": {},
          "output_type": "execute_result"
        }
      ],
      "source": [
        "myarr2"
      ]
    },
    {
      "cell_type": "code",
      "execution_count": null,
      "id": "fcc5a476-d6a5-4799-ae0a-d667bbc52e15",
      "metadata": {
        "id": "fcc5a476-d6a5-4799-ae0a-d667bbc52e15"
      },
      "outputs": [],
      "source": [
        "my2darr = np.array([[3, 45 ,6, 70]])"
      ]
    },
    {
      "cell_type": "code",
      "execution_count": null,
      "id": "167156f8-a939-42dd-baff-17bb21c85bdb",
      "metadata": {
        "id": "167156f8-a939-42dd-baff-17bb21c85bdb",
        "outputId": "f1661768-2cd8-4cf5-c5be-d9c71bddd196"
      },
      "outputs": [
        {
          "data": {
            "text/plain": [
              "array([[ 3, 45,  6, 70]])"
            ]
          },
          "execution_count": 9,
          "metadata": {},
          "output_type": "execute_result"
        }
      ],
      "source": [
        "my2darr"
      ]
    },
    {
      "cell_type": "code",
      "execution_count": null,
      "id": "d60dcbd6-5b34-4864-92db-193bdc3c5788",
      "metadata": {
        "id": "d60dcbd6-5b34-4864-92db-193bdc3c5788",
        "outputId": "84c4add5-34f8-4d57-e606-d3cc096d2ad8"
      },
      "outputs": [
        {
          "data": {
            "text/plain": [
              "array([ 3, 45,  6, 70])"
            ]
          },
          "execution_count": 10,
          "metadata": {},
          "output_type": "execute_result"
        }
      ],
      "source": [
        "my2darr[0]"
      ]
    },
    {
      "cell_type": "code",
      "execution_count": null,
      "id": "5683be62-a954-4699-ace4-5a4634f82684",
      "metadata": {
        "id": "5683be62-a954-4699-ace4-5a4634f82684",
        "outputId": "d2e27dfe-336c-40ac-8da4-dbc81b709e9f"
      },
      "outputs": [
        {
          "data": {
            "text/plain": [
              "np.int64(45)"
            ]
          },
          "execution_count": 11,
          "metadata": {},
          "output_type": "execute_result"
        }
      ],
      "source": [
        "my2darr[0, 1]"
      ]
    },
    {
      "cell_type": "code",
      "execution_count": null,
      "id": "f75984da-2c2a-4884-8aa2-33aa38adb76b",
      "metadata": {
        "id": "f75984da-2c2a-4884-8aa2-33aa38adb76b",
        "outputId": "6032eb0b-fc19-4f4a-d7a0-acad7c4e056a"
      },
      "outputs": [
        {
          "data": {
            "text/plain": [
              "(4,)"
            ]
          },
          "execution_count": 12,
          "metadata": {},
          "output_type": "execute_result"
        }
      ],
      "source": [
        "myarr.shape"
      ]
    },
    {
      "cell_type": "code",
      "execution_count": null,
      "id": "fa0bd544-d891-4e19-bc46-1d61d12f790a",
      "metadata": {
        "id": "fa0bd544-d891-4e19-bc46-1d61d12f790a",
        "outputId": "be4c920b-7eac-458c-bb91-43fcb3f4a145"
      },
      "outputs": [
        {
          "data": {
            "text/plain": [
              "(1, 4)"
            ]
          },
          "execution_count": 13,
          "metadata": {},
          "output_type": "execute_result"
        }
      ],
      "source": [
        "my2darr.shape"
      ]
    },
    {
      "cell_type": "code",
      "execution_count": null,
      "id": "eddcb26d-0615-4afc-bbc1-262eda17ace8",
      "metadata": {
        "id": "eddcb26d-0615-4afc-bbc1-262eda17ace8",
        "outputId": "943f039a-0e89-48d2-c5c6-c4143020613f"
      },
      "outputs": [
        {
          "data": {
            "text/plain": [
              "dtype('int8')"
            ]
          },
          "execution_count": 14,
          "metadata": {},
          "output_type": "execute_result"
        }
      ],
      "source": [
        "myarr.dtype"
      ]
    },
    {
      "cell_type": "code",
      "execution_count": null,
      "id": "57430419-75a0-4ff8-a023-349017a96f18",
      "metadata": {
        "id": "57430419-75a0-4ff8-a023-349017a96f18",
        "outputId": "ac934945-d9dd-4961-fd02-42549f685b44"
      },
      "outputs": [
        {
          "data": {
            "text/plain": [
              "dtype('int64')"
            ]
          },
          "execution_count": 15,
          "metadata": {},
          "output_type": "execute_result"
        }
      ],
      "source": [
        "my2darr.dtype"
      ]
    },
    {
      "cell_type": "code",
      "execution_count": null,
      "id": "46a0de1d-3137-40e3-996b-c480271511ed",
      "metadata": {
        "id": "46a0de1d-3137-40e3-996b-c480271511ed"
      },
      "outputs": [],
      "source": [
        "my2darr[0, 1] = 65"
      ]
    },
    {
      "cell_type": "code",
      "execution_count": null,
      "id": "b9d660aa-965d-4e8e-a0a5-a93f7e0d28da",
      "metadata": {
        "id": "b9d660aa-965d-4e8e-a0a5-a93f7e0d28da",
        "outputId": "5515697d-adf5-4854-b211-cc7256b7ffe2"
      },
      "outputs": [
        {
          "data": {
            "text/plain": [
              "array([[ 3, 65,  6, 70]])"
            ]
          },
          "execution_count": 17,
          "metadata": {},
          "output_type": "execute_result"
        }
      ],
      "source": [
        "my2darr"
      ]
    },
    {
      "cell_type": "code",
      "execution_count": null,
      "id": "a2e07a7c-4570-4edc-ac4d-903eaa4d1a55",
      "metadata": {
        "id": "a2e07a7c-4570-4edc-ac4d-903eaa4d1a55",
        "outputId": "b4dcbd0b-6d87-4811-b715-f7f9666aa17f"
      },
      "outputs": [
        {
          "data": {
            "text/plain": [
              "array({56, 34, 45}, dtype=object)"
            ]
          },
          "execution_count": 18,
          "metadata": {},
          "output_type": "execute_result"
        }
      ],
      "source": [
        "# It gives dtype as object\n",
        "np.array({34, 45, 56})"
      ]
    },
    {
      "cell_type": "code",
      "execution_count": null,
      "id": "4287b05c-ba23-45cb-9aec-3ea1bda56087",
      "metadata": {
        "id": "4287b05c-ba23-45cb-9aec-3ea1bda56087"
      },
      "outputs": [],
      "source": [
        "# It gives an array of all Zeros\n",
        "zeros = np.zeros((2, 4))"
      ]
    },
    {
      "cell_type": "code",
      "execution_count": null,
      "id": "a3a46afe-68d2-4e5d-8804-5b14f04d3889",
      "metadata": {
        "id": "a3a46afe-68d2-4e5d-8804-5b14f04d3889",
        "outputId": "89f98afa-b75f-482b-fc6f-8426f7e60c7c"
      },
      "outputs": [
        {
          "data": {
            "text/plain": [
              "array([[0., 0., 0., 0.],\n",
              "       [0., 0., 0., 0.]])"
            ]
          },
          "execution_count": 20,
          "metadata": {},
          "output_type": "execute_result"
        }
      ],
      "source": [
        "zeros"
      ]
    },
    {
      "cell_type": "code",
      "execution_count": null,
      "id": "38761b6e-8d16-4847-9b3d-745d1dcbe625",
      "metadata": {
        "id": "38761b6e-8d16-4847-9b3d-745d1dcbe625",
        "outputId": "9908dabb-2ccd-4e07-9efc-5ec73dcfdf1e"
      },
      "outputs": [
        {
          "data": {
            "text/plain": [
              "8"
            ]
          },
          "execution_count": 21,
          "metadata": {},
          "output_type": "execute_result"
        }
      ],
      "source": [
        "zeros.size"
      ]
    },
    {
      "cell_type": "code",
      "execution_count": null,
      "id": "3f99ab81-b0d4-4300-96d9-4db32eae0eb1",
      "metadata": {
        "id": "3f99ab81-b0d4-4300-96d9-4db32eae0eb1"
      },
      "outputs": [],
      "source": [
        "# It gives the array of number starting from 0 to n-1\n",
        "rng = np.arange(15)"
      ]
    },
    {
      "cell_type": "code",
      "execution_count": null,
      "id": "c5786ecc-5b83-469e-bfc5-edded9c1a5ce",
      "metadata": {
        "id": "c5786ecc-5b83-469e-bfc5-edded9c1a5ce",
        "outputId": "247eedbd-1c06-4bb0-ecda-2889d24060cd"
      },
      "outputs": [
        {
          "data": {
            "text/plain": [
              "array([ 0,  1,  2,  3,  4,  5,  6,  7,  8,  9, 10, 11, 12, 13, 14])"
            ]
          },
          "execution_count": 23,
          "metadata": {},
          "output_type": "execute_result"
        }
      ],
      "source": [
        "rng"
      ]
    },
    {
      "cell_type": "code",
      "execution_count": null,
      "id": "38f4dbed-8aac-481c-a5ed-511a64fa1a9e",
      "metadata": {
        "id": "38f4dbed-8aac-481c-a5ed-511a64fa1a9e"
      },
      "outputs": [],
      "source": [
        "# It creates an array of values from 1 to n, with count(number of values in a set).\n",
        "#It will form the array in which the distance between each consecutive value will remain the same.\n",
        "lspace = np.linspace(1, 50, 15)"
      ]
    },
    {
      "cell_type": "code",
      "execution_count": null,
      "id": "cda788fd-a4b6-4eae-b110-8f961e0cd7f6",
      "metadata": {
        "id": "cda788fd-a4b6-4eae-b110-8f961e0cd7f6",
        "outputId": "3c56c90a-0bd7-48c0-f073-370cc3934792"
      },
      "outputs": [
        {
          "data": {
            "text/plain": [
              "array([ 1. ,  4.5,  8. , 11.5, 15. , 18.5, 22. , 25.5, 29. , 32.5, 36. ,\n",
              "       39.5, 43. , 46.5, 50. ])"
            ]
          },
          "execution_count": 25,
          "metadata": {},
          "output_type": "execute_result"
        }
      ],
      "source": [
        "lspace"
      ]
    },
    {
      "cell_type": "code",
      "execution_count": null,
      "id": "b8626c18-d5db-4131-a0e3-af5488f5f1b2",
      "metadata": {
        "id": "b8626c18-d5db-4131-a0e3-af5488f5f1b2"
      },
      "outputs": [],
      "source": [
        "lspace2 = np.linspace(1, 20, 10)"
      ]
    },
    {
      "cell_type": "code",
      "execution_count": null,
      "id": "4b135476-64b7-40e5-bf46-7ecdc0771f53",
      "metadata": {
        "id": "4b135476-64b7-40e5-bf46-7ecdc0771f53",
        "outputId": "a76bac05-da6c-4549-9cbe-a1cd7a4b9c7f"
      },
      "outputs": [
        {
          "data": {
            "text/plain": [
              "array([ 1.        ,  3.11111111,  5.22222222,  7.33333333,  9.44444444,\n",
              "       11.55555556, 13.66666667, 15.77777778, 17.88888889, 20.        ])"
            ]
          },
          "execution_count": 27,
          "metadata": {},
          "output_type": "execute_result"
        }
      ],
      "source": [
        "lspace2"
      ]
    },
    {
      "cell_type": "code",
      "execution_count": null,
      "id": "cb1526b8-866f-412c-bd57-51de6b38b506",
      "metadata": {
        "id": "cb1526b8-866f-412c-bd57-51de6b38b506"
      },
      "outputs": [],
      "source": [
        "lspace3 = np.linspace(1,5,5)"
      ]
    },
    {
      "cell_type": "code",
      "execution_count": null,
      "id": "072ed173-c1ab-4b2e-b0a1-700985b9a4e8",
      "metadata": {
        "id": "072ed173-c1ab-4b2e-b0a1-700985b9a4e8",
        "outputId": "1c5fc114-71bc-4ef7-a6b0-99b4c2849a0f"
      },
      "outputs": [
        {
          "data": {
            "text/plain": [
              "array([1., 2., 3., 4., 5.])"
            ]
          },
          "execution_count": 29,
          "metadata": {},
          "output_type": "execute_result"
        }
      ],
      "source": [
        "lspace3"
      ]
    },
    {
      "cell_type": "code",
      "execution_count": null,
      "id": "b17cc1e3-9cda-438d-9fe7-c9c36e33ccba",
      "metadata": {
        "id": "b17cc1e3-9cda-438d-9fe7-c9c36e33ccba"
      },
      "outputs": [],
      "source": [
        "# Gives array of random elements\n",
        "emp = np.empty((4,6))"
      ]
    },
    {
      "cell_type": "code",
      "execution_count": null,
      "id": "db93cfe7-a5ea-4199-a4eb-1c5123ba1405",
      "metadata": {
        "id": "db93cfe7-a5ea-4199-a4eb-1c5123ba1405",
        "outputId": "b69aa216-2179-462b-d302-85d538bacd4a"
      },
      "outputs": [
        {
          "data": {
            "text/plain": [
              "array([[6.23042070e-307, 4.67296746e-307, 1.69121096e-306,\n",
              "        1.15710427e-306, 1.89146896e-307, 7.56571288e-307],\n",
              "       [3.11525958e-307, 1.24610723e-306, 1.37962320e-306,\n",
              "        1.29060871e-306, 2.22518251e-306, 1.33511969e-306],\n",
              "       [1.78022342e-306, 1.05700345e-307, 3.11525958e-307,\n",
              "        1.69118108e-306, 8.06632139e-308, 1.20160711e-306],\n",
              "       [1.69119330e-306, 1.29062229e-306, 6.89804133e-307,\n",
              "        9.34608432e-307, 7.56599128e-307, 1.60218491e-306]])"
            ]
          },
          "execution_count": 31,
          "metadata": {},
          "output_type": "execute_result"
        }
      ],
      "source": [
        "emp"
      ]
    },
    {
      "cell_type": "code",
      "execution_count": null,
      "id": "80a69dd4-691b-42af-8adb-943a10aaca4a",
      "metadata": {
        "id": "80a69dd4-691b-42af-8adb-943a10aaca4a"
      },
      "outputs": [],
      "source": [
        "# It creates an empty array of the same size as the previously created array, It will help to perform any operation in a newly created array.\n",
        "empLike = np.empty_like(lspace)"
      ]
    },
    {
      "cell_type": "code",
      "execution_count": null,
      "id": "7ad2190c-661f-477c-be41-34e40816731c",
      "metadata": {
        "id": "7ad2190c-661f-477c-be41-34e40816731c",
        "outputId": "7790addc-0418-4f90-c11e-2f27cca38945"
      },
      "outputs": [
        {
          "data": {
            "text/plain": [
              "array([ 1. ,  4.5,  8. , 11.5, 15. , 18.5, 22. , 25.5, 29. , 32.5, 36. ,\n",
              "       39.5, 43. , 46.5, 50. ])"
            ]
          },
          "execution_count": 33,
          "metadata": {},
          "output_type": "execute_result"
        }
      ],
      "source": [
        "empLike"
      ]
    },
    {
      "cell_type": "code",
      "execution_count": null,
      "id": "7b1fa6a4-d122-48c9-a620-f4fadf774ae5",
      "metadata": {
        "id": "7b1fa6a4-d122-48c9-a620-f4fadf774ae5"
      },
      "outputs": [],
      "source": [
        "empLike2 = np.empty_like(lspace3)"
      ]
    },
    {
      "cell_type": "code",
      "execution_count": null,
      "id": "7f34ab17-0446-46c2-8d2e-7a256cea6689",
      "metadata": {
        "id": "7f34ab17-0446-46c2-8d2e-7a256cea6689",
        "outputId": "f78f2a0b-f53b-4d9c-b1a8-7150250501e2"
      },
      "outputs": [
        {
          "data": {
            "text/plain": [
              "array([1., 2., 3., 4., 5.])"
            ]
          },
          "execution_count": 35,
          "metadata": {},
          "output_type": "execute_result"
        }
      ],
      "source": [
        "empLike2"
      ]
    },
    {
      "cell_type": "code",
      "execution_count": null,
      "id": "c2fa1b33-5369-4efe-a8f9-d9dd09edc80e",
      "metadata": {
        "id": "c2fa1b33-5369-4efe-a8f9-d9dd09edc80e"
      },
      "outputs": [],
      "source": [
        "# It Gives the identity matrix like Array\n",
        "iden = np.identity(4)"
      ]
    },
    {
      "cell_type": "code",
      "execution_count": null,
      "id": "18b72391-713b-4d31-8294-1172bad96dd3",
      "metadata": {
        "id": "18b72391-713b-4d31-8294-1172bad96dd3",
        "outputId": "86d18797-77df-4390-cfd0-6bda28389d48"
      },
      "outputs": [
        {
          "data": {
            "text/plain": [
              "array([[1., 0., 0., 0.],\n",
              "       [0., 1., 0., 0.],\n",
              "       [0., 0., 1., 0.],\n",
              "       [0., 0., 0., 1.]])"
            ]
          },
          "execution_count": 37,
          "metadata": {},
          "output_type": "execute_result"
        }
      ],
      "source": [
        "iden"
      ]
    },
    {
      "cell_type": "code",
      "execution_count": null,
      "id": "946d35ee-a322-47fb-8179-f3d72436b2c9",
      "metadata": {
        "id": "946d35ee-a322-47fb-8179-f3d72436b2c9"
      },
      "outputs": [],
      "source": [
        "arr99 = np.arange(99)"
      ]
    },
    {
      "cell_type": "code",
      "execution_count": null,
      "id": "4c8d2c59-e2e7-476e-92c9-528b1dbe7474",
      "metadata": {
        "id": "4c8d2c59-e2e7-476e-92c9-528b1dbe7474",
        "outputId": "e0fffa5d-c86c-412e-8f01-64b6f56f42b7"
      },
      "outputs": [
        {
          "data": {
            "text/plain": [
              "array([ 0,  1,  2,  3,  4,  5,  6,  7,  8,  9, 10, 11, 12, 13, 14, 15, 16,\n",
              "       17, 18, 19, 20, 21, 22, 23, 24, 25, 26, 27, 28, 29, 30, 31, 32, 33,\n",
              "       34, 35, 36, 37, 38, 39, 40, 41, 42, 43, 44, 45, 46, 47, 48, 49, 50,\n",
              "       51, 52, 53, 54, 55, 56, 57, 58, 59, 60, 61, 62, 63, 64, 65, 66, 67,\n",
              "       68, 69, 70, 71, 72, 73, 74, 75, 76, 77, 78, 79, 80, 81, 82, 83, 84,\n",
              "       85, 86, 87, 88, 89, 90, 91, 92, 93, 94, 95, 96, 97, 98])"
            ]
          },
          "execution_count": 39,
          "metadata": {},
          "output_type": "execute_result"
        }
      ],
      "source": [
        "arr99"
      ]
    },
    {
      "cell_type": "code",
      "execution_count": null,
      "id": "472a60de-a4ba-46df-aed1-e55c80a081d7",
      "metadata": {
        "id": "472a60de-a4ba-46df-aed1-e55c80a081d7",
        "outputId": "8ab7f01a-46cb-407c-bf5e-4462820a822b"
      },
      "outputs": [
        {
          "data": {
            "text/plain": [
              "array([[ 0,  1,  2,  3,  4,  5,  6,  7,  8,  9, 10],\n",
              "       [11, 12, 13, 14, 15, 16, 17, 18, 19, 20, 21],\n",
              "       [22, 23, 24, 25, 26, 27, 28, 29, 30, 31, 32],\n",
              "       [33, 34, 35, 36, 37, 38, 39, 40, 41, 42, 43],\n",
              "       [44, 45, 46, 47, 48, 49, 50, 51, 52, 53, 54],\n",
              "       [55, 56, 57, 58, 59, 60, 61, 62, 63, 64, 65],\n",
              "       [66, 67, 68, 69, 70, 71, 72, 73, 74, 75, 76],\n",
              "       [77, 78, 79, 80, 81, 82, 83, 84, 85, 86, 87],\n",
              "       [88, 89, 90, 91, 92, 93, 94, 95, 96, 97, 98]])"
            ]
          },
          "execution_count": 40,
          "metadata": {},
          "output_type": "execute_result"
        }
      ],
      "source": [
        "# It reshapes the complete array and divides into equal parts\n",
        "arr99.reshape(9, 11)"
      ]
    },
    {
      "cell_type": "code",
      "execution_count": null,
      "id": "b0259f7d-498b-4512-b0c7-4d16f51e9c11",
      "metadata": {
        "id": "b0259f7d-498b-4512-b0c7-4d16f51e9c11"
      },
      "outputs": [],
      "source": [
        "reshparr99 = arr99.reshape(3, 33)"
      ]
    },
    {
      "cell_type": "code",
      "execution_count": null,
      "id": "9e5502b3-9f15-42c9-8917-d7cfeffb1713",
      "metadata": {
        "id": "9e5502b3-9f15-42c9-8917-d7cfeffb1713",
        "outputId": "8d00c715-2dfe-4e8c-c55b-4574e22d7d38"
      },
      "outputs": [
        {
          "data": {
            "text/plain": [
              "array([[ 0,  1,  2,  3,  4,  5,  6,  7,  8,  9, 10, 11, 12, 13, 14, 15,\n",
              "        16, 17, 18, 19, 20, 21, 22, 23, 24, 25, 26, 27, 28, 29, 30, 31,\n",
              "        32],\n",
              "       [33, 34, 35, 36, 37, 38, 39, 40, 41, 42, 43, 44, 45, 46, 47, 48,\n",
              "        49, 50, 51, 52, 53, 54, 55, 56, 57, 58, 59, 60, 61, 62, 63, 64,\n",
              "        65],\n",
              "       [66, 67, 68, 69, 70, 71, 72, 73, 74, 75, 76, 77, 78, 79, 80, 81,\n",
              "        82, 83, 84, 85, 86, 87, 88, 89, 90, 91, 92, 93, 94, 95, 96, 97,\n",
              "        98]])"
            ]
          },
          "execution_count": 42,
          "metadata": {},
          "output_type": "execute_result"
        }
      ],
      "source": [
        "reshparr99"
      ]
    },
    {
      "cell_type": "code",
      "execution_count": null,
      "id": "2c0419bc-2b25-4573-ad24-f8477484054c",
      "metadata": {
        "id": "2c0419bc-2b25-4573-ad24-f8477484054c",
        "outputId": "17e550ec-04d2-4c54-bbc4-9c4232578b0f"
      },
      "outputs": [
        {
          "data": {
            "text/plain": [
              "array([ 0,  1,  2,  3,  4,  5,  6,  7,  8,  9, 10, 11, 12, 13, 14, 15, 16,\n",
              "       17, 18, 19, 20, 21, 22, 23, 24, 25, 26, 27, 28, 29, 30, 31, 32, 33,\n",
              "       34, 35, 36, 37, 38, 39, 40, 41, 42, 43, 44, 45, 46, 47, 48, 49, 50,\n",
              "       51, 52, 53, 54, 55, 56, 57, 58, 59, 60, 61, 62, 63, 64, 65, 66, 67,\n",
              "       68, 69, 70, 71, 72, 73, 74, 75, 76, 77, 78, 79, 80, 81, 82, 83, 84,\n",
              "       85, 86, 87, 88, 89, 90, 91, 92, 93, 94, 95, 96, 97, 98])"
            ]
          },
          "execution_count": 43,
          "metadata": {},
          "output_type": "execute_result"
        }
      ],
      "source": [
        "# It converts the array back to its original form.\n",
        "reshparr99.ravel()"
      ]
    },
    {
      "cell_type": "code",
      "execution_count": null,
      "id": "835d5c09-e03c-4694-af33-16456f451262",
      "metadata": {
        "id": "835d5c09-e03c-4694-af33-16456f451262",
        "outputId": "4ed828ce-1d66-4ebd-fb07-e2a3fce139ee"
      },
      "outputs": [
        {
          "data": {
            "text/plain": [
              "array([[ 0,  1,  2,  3,  4,  5,  6,  7,  8,  9, 10, 11, 12, 13, 14, 15,\n",
              "        16, 17, 18, 19, 20, 21, 22, 23, 24, 25, 26, 27, 28, 29, 30, 31,\n",
              "        32],\n",
              "       [33, 34, 35, 36, 37, 38, 39, 40, 41, 42, 43, 44, 45, 46, 47, 48,\n",
              "        49, 50, 51, 52, 53, 54, 55, 56, 57, 58, 59, 60, 61, 62, 63, 64,\n",
              "        65],\n",
              "       [66, 67, 68, 69, 70, 71, 72, 73, 74, 75, 76, 77, 78, 79, 80, 81,\n",
              "        82, 83, 84, 85, 86, 87, 88, 89, 90, 91, 92, 93, 94, 95, 96, 97,\n",
              "        98]])"
            ]
          },
          "execution_count": 44,
          "metadata": {},
          "output_type": "execute_result"
        }
      ],
      "source": [
        "reshparr99"
      ]
    },
    {
      "cell_type": "code",
      "execution_count": null,
      "id": "c124ebec-7d3d-48a5-a289-fccbc920834c",
      "metadata": {
        "id": "c124ebec-7d3d-48a5-a289-fccbc920834c",
        "outputId": "b3c8b009-d1ed-4c5f-cc76-ccf290124a74"
      },
      "outputs": [
        {
          "data": {
            "text/plain": [
              "(3, 33)"
            ]
          },
          "execution_count": 45,
          "metadata": {},
          "output_type": "execute_result"
        }
      ],
      "source": [
        "reshparr99.shape"
      ]
    },
    {
      "cell_type": "code",
      "execution_count": null,
      "id": "f7f68466-ebde-471c-b918-5eae3e84e21a",
      "metadata": {
        "id": "f7f68466-ebde-471c-b918-5eae3e84e21a",
        "outputId": "d3c10134-7d7f-46dc-cd4f-c624887ae874"
      },
      "outputs": [
        {
          "data": {
            "text/plain": [
              "array([ 0,  1,  2,  3,  4,  5,  6,  7,  8,  9, 10, 11, 12, 13, 14, 15, 16,\n",
              "       17, 18, 19, 20, 21, 22, 23, 24, 25, 26, 27, 28, 29, 30, 31, 32, 33,\n",
              "       34, 35, 36, 37, 38, 39, 40, 41, 42, 43, 44, 45, 46, 47, 48, 49, 50,\n",
              "       51, 52, 53, 54, 55, 56, 57, 58, 59, 60, 61, 62, 63, 64, 65, 66, 67,\n",
              "       68, 69, 70, 71, 72, 73, 74, 75, 76, 77, 78, 79, 80, 81, 82, 83, 84,\n",
              "       85, 86, 87, 88, 89, 90, 91, 92, 93, 94, 95, 96, 97, 98])"
            ]
          },
          "execution_count": 46,
          "metadata": {},
          "output_type": "execute_result"
        }
      ],
      "source": [
        "arr99"
      ]
    },
    {
      "cell_type": "code",
      "execution_count": null,
      "id": "9534684e-c5d0-4f09-9972-2426fdb5eb5d",
      "metadata": {
        "id": "9534684e-c5d0-4f09-9972-2426fdb5eb5d",
        "outputId": "3cf906bd-50f1-44ce-f7b0-b94b7be1d709"
      },
      "outputs": [
        {
          "data": {
            "text/plain": [
              "(99,)"
            ]
          },
          "execution_count": 47,
          "metadata": {},
          "output_type": "execute_result"
        }
      ],
      "source": [
        "arr99.shape"
      ]
    },
    {
      "cell_type": "markdown",
      "id": "de3f8c7d-b566-469c-8d95-81bd6a903580",
      "metadata": {
        "id": "de3f8c7d-b566-469c-8d95-81bd6a903580"
      },
      "source": [
        "### 1D Array:-"
      ]
    },
    {
      "cell_type": "code",
      "execution_count": null,
      "id": "8defa013-bb90-4302-9be6-c95b2123abb0",
      "metadata": {
        "id": "8defa013-bb90-4302-9be6-c95b2123abb0"
      },
      "outputs": [],
      "source": [
        "arr1d = np.array([ 2, 345, 421, 3, 20])"
      ]
    },
    {
      "cell_type": "code",
      "execution_count": null,
      "id": "1aee176c-e39d-451a-8133-de31cf472a52",
      "metadata": {
        "id": "1aee176c-e39d-451a-8133-de31cf472a52",
        "outputId": "8148c19e-0ba4-4f21-dd92-1d0b6c725338"
      },
      "outputs": [
        {
          "data": {
            "text/plain": [
              "np.int64(2)"
            ]
          },
          "execution_count": 49,
          "metadata": {},
          "output_type": "execute_result"
        }
      ],
      "source": [
        "# It gives the index at which the maximum element is there.\n",
        "arr1d.argmax()"
      ]
    },
    {
      "cell_type": "code",
      "execution_count": null,
      "id": "7a714879-fc46-4500-842f-a0a91ac2f703",
      "metadata": {
        "id": "7a714879-fc46-4500-842f-a0a91ac2f703",
        "outputId": "3b85c5cd-8a26-4039-a258-6676550af265"
      },
      "outputs": [
        {
          "data": {
            "text/plain": [
              "np.int64(0)"
            ]
          },
          "execution_count": 50,
          "metadata": {},
          "output_type": "execute_result"
        }
      ],
      "source": [
        "# It gives the index at which the minimum element is there.\n",
        "arr1d.argmin()"
      ]
    },
    {
      "cell_type": "code",
      "execution_count": null,
      "id": "af0d8116-c55d-498a-847b-4ccd0bb5cd61",
      "metadata": {
        "id": "af0d8116-c55d-498a-847b-4ccd0bb5cd61",
        "outputId": "6cba84f0-af86-4530-aa9a-fea9e5862289"
      },
      "outputs": [
        {
          "data": {
            "text/plain": [
              "array([0, 3, 4, 1, 2])"
            ]
          },
          "execution_count": 51,
          "metadata": {},
          "output_type": "execute_result"
        }
      ],
      "source": [
        "# It gives the array of index where the value is the sequence of the elements.\n",
        "arr1d.argsort()"
      ]
    },
    {
      "cell_type": "markdown",
      "id": "56f8f3d6-7e5e-4762-8703-111de63489f1",
      "metadata": {
        "id": "56f8f3d6-7e5e-4762-8703-111de63489f1"
      },
      "source": [
        "### 2D Array:-"
      ]
    },
    {
      "cell_type": "code",
      "execution_count": null,
      "id": "793a79e5-820d-4c53-99ee-f7c9f2029ae0",
      "metadata": {
        "id": "793a79e5-820d-4c53-99ee-f7c9f2029ae0"
      },
      "outputs": [],
      "source": [
        "arr2d = np.array([[1,2,3], [4,5,6], [7,8,9]])"
      ]
    },
    {
      "cell_type": "code",
      "execution_count": null,
      "id": "d54b16e9-7ee4-45e6-b4d6-7065d0f07739",
      "metadata": {
        "id": "d54b16e9-7ee4-45e6-b4d6-7065d0f07739",
        "outputId": "1e78bdf3-9748-408b-e1b1-f4c1f09c925d"
      },
      "outputs": [
        {
          "data": {
            "text/plain": [
              "array([[1, 2, 3],\n",
              "       [4, 5, 6],\n",
              "       [7, 8, 9]])"
            ]
          },
          "execution_count": 53,
          "metadata": {},
          "output_type": "execute_result"
        }
      ],
      "source": [
        "arr2d"
      ]
    },
    {
      "cell_type": "code",
      "execution_count": null,
      "id": "c2c7719c-ccb7-431d-9751-6b8cf6411256",
      "metadata": {
        "id": "c2c7719c-ccb7-431d-9751-6b8cf6411256",
        "outputId": "2611353a-a24b-4e88-cb53-44729439e84e"
      },
      "outputs": [
        {
          "data": {
            "text/plain": [
              "array([12, 15, 18])"
            ]
          },
          "execution_count": 54,
          "metadata": {},
          "output_type": "execute_result"
        }
      ],
      "source": [
        "# It gives the sum of all the elements in a Column(which means it is a Y-Axis).\n",
        "arr2d.sum(axis=0)"
      ]
    },
    {
      "cell_type": "code",
      "execution_count": null,
      "id": "e74ec3fe-0ab7-4de2-ad98-688e3e26f43d",
      "metadata": {
        "id": "e74ec3fe-0ab7-4de2-ad98-688e3e26f43d",
        "outputId": "2adcfb1d-f9c5-482d-f388-33a50e4b5f28"
      },
      "outputs": [
        {
          "data": {
            "text/plain": [
              "array([ 6, 15, 24])"
            ]
          },
          "execution_count": 55,
          "metadata": {},
          "output_type": "execute_result"
        }
      ],
      "source": [
        "# It gives the sum of all the elements in a Row(which means it is an X-Axis).\n",
        "arr2d.sum(axis=1)"
      ]
    },
    {
      "cell_type": "code",
      "execution_count": null,
      "id": "43574b46-f05f-458d-8165-ad2322795df2",
      "metadata": {
        "id": "43574b46-f05f-458d-8165-ad2322795df2",
        "outputId": "27bd7c2c-252b-4665-a9da-c531ca908e57"
      },
      "outputs": [
        {
          "data": {
            "text/plain": [
              "np.int64(8)"
            ]
          },
          "execution_count": 56,
          "metadata": {},
          "output_type": "execute_result"
        }
      ],
      "source": [
        "arr2d.argmax()"
      ]
    },
    {
      "cell_type": "code",
      "execution_count": null,
      "id": "2a9794d2-f9c8-4df7-8280-8688a9129134",
      "metadata": {
        "id": "2a9794d2-f9c8-4df7-8280-8688a9129134",
        "outputId": "cefb59b8-2d25-4e3e-c0d1-7c9d671470c6"
      },
      "outputs": [
        {
          "data": {
            "text/plain": [
              "np.int64(0)"
            ]
          },
          "execution_count": 57,
          "metadata": {},
          "output_type": "execute_result"
        }
      ],
      "source": [
        "arr2d.argmin()"
      ]
    },
    {
      "cell_type": "code",
      "execution_count": null,
      "id": "23650a7b-6199-4683-ae07-da75d0e78be6",
      "metadata": {
        "id": "23650a7b-6199-4683-ae07-da75d0e78be6",
        "outputId": "1375118f-60db-4106-8b29-32ea5828ff4d"
      },
      "outputs": [
        {
          "data": {
            "text/plain": [
              "array([2, 2, 2])"
            ]
          },
          "execution_count": 58,
          "metadata": {},
          "output_type": "execute_result"
        }
      ],
      "source": [
        "arr2d.argmax(axis=0)"
      ]
    },
    {
      "cell_type": "code",
      "execution_count": null,
      "id": "e3408beb-8cb1-4764-beb6-a8d1a952f280",
      "metadata": {
        "id": "e3408beb-8cb1-4764-beb6-a8d1a952f280",
        "outputId": "d5fce114-7629-4aad-cf3e-51f1dc59df00"
      },
      "outputs": [
        {
          "data": {
            "text/plain": [
              "array([2, 2, 2])"
            ]
          },
          "execution_count": 59,
          "metadata": {},
          "output_type": "execute_result"
        }
      ],
      "source": [
        "arr2d.argmax(axis=1)"
      ]
    },
    {
      "cell_type": "code",
      "execution_count": null,
      "id": "5cfc598a-8295-401d-9291-b4f5c9e1f401",
      "metadata": {
        "id": "5cfc598a-8295-401d-9291-b4f5c9e1f401",
        "outputId": "fd8a185a-03f9-46fb-db44-a7a2d38bc77a"
      },
      "outputs": [
        {
          "data": {
            "text/plain": [
              "array([0, 0, 0])"
            ]
          },
          "execution_count": 60,
          "metadata": {},
          "output_type": "execute_result"
        }
      ],
      "source": [
        "arr2d.argmin(axis=0)"
      ]
    },
    {
      "cell_type": "code",
      "execution_count": null,
      "id": "df912f2e-b5f1-4d4d-9066-dda17fbd1585",
      "metadata": {
        "id": "df912f2e-b5f1-4d4d-9066-dda17fbd1585",
        "outputId": "28c0258f-cdb9-4e2f-f63e-bd8e08c6784f"
      },
      "outputs": [
        {
          "data": {
            "text/plain": [
              "array([0, 0, 0])"
            ]
          },
          "execution_count": 61,
          "metadata": {},
          "output_type": "execute_result"
        }
      ],
      "source": [
        "arr2d.argmin(axis=1)"
      ]
    },
    {
      "cell_type": "code",
      "execution_count": null,
      "id": "971eacc5-7313-442d-8edd-e27ddcb23216",
      "metadata": {
        "id": "971eacc5-7313-442d-8edd-e27ddcb23216",
        "outputId": "3be436d6-67e3-43db-a7f1-564320b0b172"
      },
      "outputs": [
        {
          "data": {
            "text/plain": [
              "array([[0, 1, 2],\n",
              "       [0, 1, 2],\n",
              "       [0, 1, 2]])"
            ]
          },
          "execution_count": 62,
          "metadata": {},
          "output_type": "execute_result"
        }
      ],
      "source": [
        "arr2d.argsort()"
      ]
    },
    {
      "cell_type": "code",
      "execution_count": null,
      "id": "de774d67-8db4-44d9-942e-2a16b284e548",
      "metadata": {
        "id": "de774d67-8db4-44d9-942e-2a16b284e548",
        "outputId": "b1198055-2e7a-4db1-8e65-78ac31a8390a"
      },
      "outputs": [
        {
          "data": {
            "text/plain": [
              "array([[0, 0, 0],\n",
              "       [1, 1, 1],\n",
              "       [2, 2, 2]])"
            ]
          },
          "execution_count": 63,
          "metadata": {},
          "output_type": "execute_result"
        }
      ],
      "source": [
        "arr2d.argsort(axis=0)"
      ]
    },
    {
      "cell_type": "code",
      "execution_count": null,
      "id": "b69d67e0-1507-42d8-9a6c-d5e3cea76b0e",
      "metadata": {
        "id": "b69d67e0-1507-42d8-9a6c-d5e3cea76b0e",
        "outputId": "f7eb9abe-ec3f-4f11-a48b-e64273f7549b"
      },
      "outputs": [
        {
          "data": {
            "text/plain": [
              "array([[0, 1, 2],\n",
              "       [0, 1, 2],\n",
              "       [0, 1, 2]])"
            ]
          },
          "execution_count": 64,
          "metadata": {},
          "output_type": "execute_result"
        }
      ],
      "source": [
        "arr2d.argsort(axis=1)"
      ]
    },
    {
      "cell_type": "code",
      "execution_count": null,
      "id": "2fcbe8f1-f5d4-4e94-8d1c-99873324d04a",
      "metadata": {
        "id": "2fcbe8f1-f5d4-4e94-8d1c-99873324d04a",
        "outputId": "4a81707a-d9fc-4388-c1a0-5463859f1aba"
      },
      "outputs": [
        {
          "data": {
            "text/plain": [
              "array([1, 2, 3, 4, 5, 6, 7, 8, 9])"
            ]
          },
          "execution_count": 65,
          "metadata": {},
          "output_type": "execute_result"
        }
      ],
      "source": [
        "arr2d.ravel()"
      ]
    },
    {
      "cell_type": "code",
      "execution_count": null,
      "id": "7458d2ea-d459-460b-9595-e40c95b85724",
      "metadata": {
        "id": "7458d2ea-d459-460b-9595-e40c95b85724",
        "outputId": "a88a92cc-a7da-46eb-e62b-00fe0957593a"
      },
      "outputs": [
        {
          "data": {
            "text/plain": [
              "array([[1, 2, 3],\n",
              "       [4, 5, 6],\n",
              "       [7, 8, 9]])"
            ]
          },
          "execution_count": 66,
          "metadata": {},
          "output_type": "execute_result"
        }
      ],
      "source": [
        "arr2d"
      ]
    },
    {
      "cell_type": "code",
      "execution_count": null,
      "id": "10963e3f-da1e-4f6b-8667-c253c92f0f6d",
      "metadata": {
        "id": "10963e3f-da1e-4f6b-8667-c253c92f0f6d",
        "outputId": "effeb5f0-ccb1-4af3-841b-2126975bbb1c"
      },
      "outputs": [
        {
          "data": {
            "text/plain": [
              "array([[1],\n",
              "       [2],\n",
              "       [3],\n",
              "       [4],\n",
              "       [5],\n",
              "       [6],\n",
              "       [7],\n",
              "       [8],\n",
              "       [9]])"
            ]
          },
          "execution_count": 67,
          "metadata": {},
          "output_type": "execute_result"
        }
      ],
      "source": [
        "arr2d.reshape((9,1))"
      ]
    },
    {
      "cell_type": "code",
      "execution_count": null,
      "id": "b59c8645-bcb9-44c8-b057-6250b893774c",
      "metadata": {
        "id": "b59c8645-bcb9-44c8-b057-6250b893774c"
      },
      "outputs": [],
      "source": [
        "#It Transposes the array(which means Rows become Columns & Columns become Rows).\n",
        "Tparr2d = arr2d.T"
      ]
    },
    {
      "cell_type": "code",
      "execution_count": null,
      "id": "9d67c9a8-0f7c-4dec-9a05-9e2df2bc2c6e",
      "metadata": {
        "id": "9d67c9a8-0f7c-4dec-9a05-9e2df2bc2c6e",
        "outputId": "b2375319-d7c9-45a6-c895-de005a6b3f62"
      },
      "outputs": [
        {
          "data": {
            "text/plain": [
              "array([[1, 4, 7],\n",
              "       [2, 5, 8],\n",
              "       [3, 6, 9]])"
            ]
          },
          "execution_count": 69,
          "metadata": {},
          "output_type": "execute_result"
        }
      ],
      "source": [
        "Tparr2d"
      ]
    },
    {
      "cell_type": "code",
      "execution_count": null,
      "id": "762c3ea1-eff5-4ecf-86b4-35b10032c23d",
      "metadata": {
        "id": "762c3ea1-eff5-4ecf-86b4-35b10032c23d",
        "outputId": "7c576f65-49ff-4a85-e92c-2e40477d02e4"
      },
      "outputs": [
        {
          "data": {
            "text/plain": [
              "array([[1, 2, 3],\n",
              "       [4, 5, 6],\n",
              "       [7, 8, 9]])"
            ]
          },
          "execution_count": 70,
          "metadata": {},
          "output_type": "execute_result"
        }
      ],
      "source": [
        "arr2d"
      ]
    },
    {
      "cell_type": "code",
      "execution_count": null,
      "id": "296b81a4-a2e4-4cc6-bdb8-2d1cc21fdcbc",
      "metadata": {
        "id": "296b81a4-a2e4-4cc6-bdb8-2d1cc21fdcbc",
        "outputId": "3028821a-822c-4565-9ba9-2084d539fb13"
      },
      "outputs": [
        {
          "data": {
            "text/plain": [
              "array([[1, 4, 7],\n",
              "       [2, 5, 8],\n",
              "       [3, 6, 9]])"
            ]
          },
          "execution_count": 71,
          "metadata": {},
          "output_type": "execute_result"
        }
      ],
      "source": [
        "Tparr2d"
      ]
    },
    {
      "cell_type": "code",
      "execution_count": null,
      "id": "809d61b4-fec2-4f86-a83d-ad96d9800541",
      "metadata": {
        "id": "809d61b4-fec2-4f86-a83d-ad96d9800541",
        "outputId": "21412bca-077f-4138-fb7b-f259b2d1e3e7"
      },
      "outputs": [
        {
          "data": {
            "text/plain": [
              "<numpy.flatiter at 0x27b08165d60>"
            ]
          },
          "execution_count": 72,
          "metadata": {},
          "output_type": "execute_result"
        }
      ],
      "source": [
        "arr2d.flat"
      ]
    },
    {
      "cell_type": "code",
      "execution_count": null,
      "id": "56397971-f8db-414a-b9aa-b43c8e9685b8",
      "metadata": {
        "id": "56397971-f8db-414a-b9aa-b43c8e9685b8",
        "outputId": "2f8a3c97-b73a-4489-eac3-7145cc5f64d3"
      },
      "outputs": [
        {
          "name": "stdout",
          "output_type": "stream",
          "text": [
            "1\n",
            "2\n",
            "3\n",
            "4\n",
            "5\n",
            "6\n",
            "7\n",
            "8\n",
            "9\n"
          ]
        }
      ],
      "source": [
        "for item in arr2d.flat:\n",
        "    print(item)"
      ]
    },
    {
      "cell_type": "code",
      "execution_count": null,
      "id": "0a4645c0-22c2-4406-8bdc-cee92117f16e",
      "metadata": {
        "id": "0a4645c0-22c2-4406-8bdc-cee92117f16e",
        "outputId": "dfb74c0f-18f9-43a8-a079-50c12e39f86e"
      },
      "outputs": [
        {
          "name": "stdout",
          "output_type": "stream",
          "text": [
            "1\n",
            "2\n",
            "3\n",
            "4\n",
            "5\n",
            "6\n",
            "7\n",
            "8\n",
            "9\n"
          ]
        }
      ],
      "source": [
        "for item in arr2d.flatten():\n",
        "    print(item)"
      ]
    },
    {
      "cell_type": "code",
      "execution_count": null,
      "id": "aa1e632e-f9de-48eb-9db3-f8ff820b757b",
      "metadata": {
        "id": "aa1e632e-f9de-48eb-9db3-f8ff820b757b",
        "outputId": "fe574c11-26a5-44a2-cc5a-be1413070d73"
      },
      "outputs": [
        {
          "name": "stdout",
          "output_type": "stream",
          "text": [
            "1\n",
            "2\n",
            "3\n",
            "4\n",
            "5\n",
            "6\n",
            "7\n",
            "8\n",
            "9\n"
          ]
        }
      ],
      "source": [
        "# Prints all the elements in C Order(Row-Wise).\n",
        "for x in np.nditer(arr2d, order='C'):\n",
        "    print(x)"
      ]
    },
    {
      "cell_type": "code",
      "execution_count": null,
      "id": "d59a099a-f9ec-4dbf-9a3c-63e5a0fb1b5f",
      "metadata": {
        "id": "d59a099a-f9ec-4dbf-9a3c-63e5a0fb1b5f",
        "outputId": "a14e84a7-00e4-40b9-cd11-2fd1563c9b42"
      },
      "outputs": [
        {
          "name": "stdout",
          "output_type": "stream",
          "text": [
            "1\n",
            "4\n",
            "7\n",
            "2\n",
            "5\n",
            "8\n",
            "3\n",
            "6\n",
            "9\n"
          ]
        }
      ],
      "source": [
        "# Prints all the elements in Fortan Order(Column-Wise).\n",
        "for x in np.nditer(arr2d, order='F'):\n",
        "    print(x)"
      ]
    },
    {
      "cell_type": "code",
      "execution_count": null,
      "id": "09de799a-ec89-447f-8d62-ce1f174dde3c",
      "metadata": {
        "id": "09de799a-ec89-447f-8d62-ce1f174dde3c",
        "outputId": "7f086e2c-3ef0-4ac9-a129-1d00cdbdc031"
      },
      "outputs": [
        {
          "name": "stdout",
          "output_type": "stream",
          "text": [
            "1\n",
            "4\n",
            "7\n",
            "2\n",
            "5\n",
            "8\n",
            "3\n",
            "6\n",
            "9\n"
          ]
        }
      ],
      "source": [
        "for item in Tparr2d.flat:\n",
        "    print(item)"
      ]
    },
    {
      "cell_type": "code",
      "execution_count": null,
      "id": "efcf4412-bdfe-44d8-b399-92ae3797b74c",
      "metadata": {
        "id": "efcf4412-bdfe-44d8-b399-92ae3797b74c"
      },
      "outputs": [],
      "source": []
    },
    {
      "cell_type": "code",
      "execution_count": null,
      "id": "1511feb5-c352-4c04-b72a-4ac728eec038",
      "metadata": {
        "id": "1511feb5-c352-4c04-b72a-4ac728eec038",
        "outputId": "57207e63-a507-4f5d-f264-554b457b9cc7"
      },
      "outputs": [
        {
          "data": {
            "text/plain": [
              "2"
            ]
          },
          "execution_count": 75,
          "metadata": {},
          "output_type": "execute_result"
        }
      ],
      "source": [
        "# IT displays the number of dimensions of Array.\n",
        "arr2d.ndim"
      ]
    },
    {
      "cell_type": "code",
      "execution_count": null,
      "id": "7d06aef8-bd8f-4837-9fb8-83a62f041cd4",
      "metadata": {
        "id": "7d06aef8-bd8f-4837-9fb8-83a62f041cd4",
        "outputId": "8aa8cc4b-bfe9-4b6f-9b75-9e24e134e938"
      },
      "outputs": [
        {
          "data": {
            "text/plain": [
              "9"
            ]
          },
          "execution_count": 76,
          "metadata": {},
          "output_type": "execute_result"
        }
      ],
      "source": [
        "# Display the no. of elements\n",
        "arr2d.size"
      ]
    },
    {
      "cell_type": "code",
      "execution_count": null,
      "id": "be158c47-bdc6-4685-88b7-96d82bb31bbe",
      "metadata": {
        "id": "be158c47-bdc6-4685-88b7-96d82bb31bbe",
        "outputId": "4018c02b-86fe-4a10-9226-7e1f138fbc6d"
      },
      "outputs": [
        {
          "data": {
            "text/plain": [
              "72"
            ]
          },
          "execution_count": 77,
          "metadata": {},
          "output_type": "execute_result"
        }
      ],
      "source": [
        "# Display the byte the array consumes.\n",
        "arr2d.nbytes"
      ]
    },
    {
      "cell_type": "code",
      "execution_count": null,
      "id": "3ffa744b-41bf-420a-818b-087fb82c4b3a",
      "metadata": {
        "id": "3ffa744b-41bf-420a-818b-087fb82c4b3a",
        "outputId": "1103e5d2-8b36-48e1-f7c9-d57493af8c56"
      },
      "outputs": [
        {
          "data": {
            "text/plain": [
              "array([[1, 2, 3],\n",
              "       [4, 5, 6],\n",
              "       [7, 8, 9]])"
            ]
          },
          "execution_count": 78,
          "metadata": {},
          "output_type": "execute_result"
        }
      ],
      "source": [
        "arr2d"
      ]
    },
    {
      "cell_type": "code",
      "execution_count": null,
      "id": "8318669e-474c-4331-9357-2eb277e7a7f7",
      "metadata": {
        "id": "8318669e-474c-4331-9357-2eb277e7a7f7"
      },
      "outputs": [],
      "source": [
        "arr2d2 = np.array([[9,8,7], [6,5,4], [3,2,1]])"
      ]
    },
    {
      "cell_type": "code",
      "execution_count": null,
      "id": "708315b7-4503-4af4-879d-c5fca8b39ae9",
      "metadata": {
        "id": "708315b7-4503-4af4-879d-c5fca8b39ae9",
        "outputId": "a646181d-8b3f-4759-b366-e7bc6d4ba5ed"
      },
      "outputs": [
        {
          "data": {
            "text/plain": [
              "array([[9, 8, 7],\n",
              "       [6, 5, 4],\n",
              "       [3, 2, 1]])"
            ]
          },
          "execution_count": 80,
          "metadata": {},
          "output_type": "execute_result"
        }
      ],
      "source": [
        "arr2d2"
      ]
    },
    {
      "cell_type": "code",
      "execution_count": null,
      "id": "5f5c3d7e-7aa3-4166-bd2b-69d04f84adcf",
      "metadata": {
        "id": "5f5c3d7e-7aa3-4166-bd2b-69d04f84adcf",
        "outputId": "b75469cf-4d37-48d4-9f0e-dcd6aa656e7e"
      },
      "outputs": [
        {
          "data": {
            "text/plain": [
              "np.int64(9)"
            ]
          },
          "execution_count": 81,
          "metadata": {},
          "output_type": "execute_result"
        }
      ],
      "source": [
        "# Displays the maximun element\n",
        "arr2d2.max()"
      ]
    },
    {
      "cell_type": "code",
      "execution_count": null,
      "id": "8ae643e2-ad8a-4abf-89b7-056a243debc0",
      "metadata": {
        "id": "8ae643e2-ad8a-4abf-89b7-056a243debc0",
        "outputId": "d81aaacc-23a1-4898-d17b-7e9f23015e77"
      },
      "outputs": [
        {
          "data": {
            "text/plain": [
              "np.int64(1)"
            ]
          },
          "execution_count": 82,
          "metadata": {},
          "output_type": "execute_result"
        }
      ],
      "source": [
        "# Displays the minimum element\n",
        "arr2d.min()"
      ]
    },
    {
      "cell_type": "code",
      "execution_count": null,
      "id": "79596c29-4f3c-45c7-9d28-84f43d4da1a1",
      "metadata": {
        "id": "79596c29-4f3c-45c7-9d28-84f43d4da1a1",
        "outputId": "5a075fd6-ca88-46f8-cc05-c2e211be43dc"
      },
      "outputs": [
        {
          "data": {
            "text/plain": [
              "(array([1, 2, 2, 2]), array([2, 0, 1, 2]))"
            ]
          },
          "execution_count": 83,
          "metadata": {},
          "output_type": "execute_result"
        }
      ],
      "source": [
        "# It displays the index where the element is greater than 5.\n",
        "np.where(arr2d > 5)"
      ]
    },
    {
      "cell_type": "code",
      "execution_count": null,
      "id": "c6340354-d6d8-48ee-a21c-43af33fd171e",
      "metadata": {
        "id": "c6340354-d6d8-48ee-a21c-43af33fd171e",
        "outputId": "578a6eb3-a9a0-4783-a657-fb4f6a335a23"
      },
      "outputs": [
        {
          "data": {
            "text/plain": [
              "9"
            ]
          },
          "execution_count": 84,
          "metadata": {},
          "output_type": "execute_result"
        }
      ],
      "source": [
        "np.count_nonzero(arr2d2)"
      ]
    },
    {
      "cell_type": "code",
      "execution_count": null,
      "id": "f5487dcf-aee7-44b7-a5b6-769d66f01038",
      "metadata": {
        "id": "f5487dcf-aee7-44b7-a5b6-769d66f01038",
        "outputId": "170b2270-a135-4315-b872-8b2fe0c40a95"
      },
      "outputs": [
        {
          "data": {
            "text/plain": [
              "(array([0, 0, 0, 1, 1, 1, 2, 2, 2]), array([0, 1, 2, 0, 1, 2, 0, 1, 2]))"
            ]
          },
          "execution_count": 85,
          "metadata": {},
          "output_type": "execute_result"
        }
      ],
      "source": [
        "np.nonzero(arr2d2)"
      ]
    },
    {
      "cell_type": "code",
      "execution_count": null,
      "id": "cb68f0b7-52b6-413a-89d3-b77e3d5b0419",
      "metadata": {
        "id": "cb68f0b7-52b6-413a-89d3-b77e3d5b0419"
      },
      "outputs": [],
      "source": [
        "arr2d2[1,0] = 0"
      ]
    },
    {
      "cell_type": "code",
      "execution_count": null,
      "id": "89fbaa3b-83fb-4459-81ad-be9063bbdd4c",
      "metadata": {
        "id": "89fbaa3b-83fb-4459-81ad-be9063bbdd4c",
        "outputId": "3ec59e32-971d-45b3-fe1a-5e1d290cb979"
      },
      "outputs": [
        {
          "data": {
            "text/plain": [
              "(array([0, 0, 0, 1, 1, 2, 2, 2]), array([0, 1, 2, 1, 2, 0, 1, 2]))"
            ]
          },
          "execution_count": 87,
          "metadata": {},
          "output_type": "execute_result"
        }
      ],
      "source": [
        "np.nonzero(arr2d2)"
      ]
    },
    {
      "cell_type": "code",
      "execution_count": null,
      "id": "fc56cdca-fb8d-4538-b295-747eabe81330",
      "metadata": {
        "id": "fc56cdca-fb8d-4538-b295-747eabe81330",
        "outputId": "f6801f5b-868f-459c-880b-7e5569580c14"
      },
      "outputs": [
        {
          "data": {
            "text/plain": [
              "array([[10, 10, 10],\n",
              "       [ 4, 10, 10],\n",
              "       [10, 10, 10]])"
            ]
          },
          "execution_count": 88,
          "metadata": {},
          "output_type": "execute_result"
        }
      ],
      "source": [
        "# NUMPY helps you to perform all the operations where lists cannot.\n",
        "arr2d + arr2d2"
      ]
    },
    {
      "cell_type": "code",
      "execution_count": null,
      "id": "6ef1ded3-f85c-453c-b526-e92f8c083515",
      "metadata": {
        "id": "6ef1ded3-f85c-453c-b526-e92f8c083515",
        "outputId": "e010d206-3169-429a-9c70-38c6781363ab"
      },
      "outputs": [
        {
          "data": {
            "text/plain": [
              "array([[ 9, 16, 21],\n",
              "       [ 0, 25, 24],\n",
              "       [21, 16,  9]])"
            ]
          },
          "execution_count": 89,
          "metadata": {},
          "output_type": "execute_result"
        }
      ],
      "source": [
        "arr2d * arr2d2"
      ]
    },
    {
      "cell_type": "code",
      "execution_count": null,
      "id": "a136fea1-4b3b-4ddd-8942-8294437aca31",
      "metadata": {
        "id": "a136fea1-4b3b-4ddd-8942-8294437aca31",
        "outputId": "c6ce94dc-9e52-4c1f-c23c-fe1d61177996"
      },
      "outputs": [
        {
          "data": {
            "text/plain": [
              "[34, 54, 23, 43]"
            ]
          },
          "execution_count": 90,
          "metadata": {},
          "output_type": "execute_result"
        }
      ],
      "source": [
        "# list cannot perform such an operation. It concatenates the lists.\n",
        "[34, 54] + [23, 43]"
      ]
    },
    {
      "cell_type": "code",
      "execution_count": null,
      "id": "524d07bf-2c3f-4d2a-9c21-622cb96a1546",
      "metadata": {
        "id": "524d07bf-2c3f-4d2a-9c21-622cb96a1546",
        "outputId": "ac00f5db-e0a7-4f7e-aa0e-b6bcb90bbb86"
      },
      "outputs": [
        {
          "data": {
            "text/plain": [
              "array([ 1.41421356, 18.57417562, 20.51828453,  1.73205081,  4.47213595])"
            ]
          },
          "execution_count": 91,
          "metadata": {},
          "output_type": "execute_result"
        }
      ],
      "source": [
        "np.sqrt(arr1d)"
      ]
    },
    {
      "cell_type": "code",
      "execution_count": null,
      "id": "07a84fee-3c84-4cd8-bfc8-6d07bd0f22b5",
      "metadata": {
        "id": "07a84fee-3c84-4cd8-bfc8-6d07bd0f22b5",
        "outputId": "7315f262-2b71-442d-ec8e-ffbff51cd63f"
      },
      "outputs": [
        {
          "data": {
            "text/plain": [
              "array([[1.        , 1.41421356, 1.73205081],\n",
              "       [2.        , 2.23606798, 2.44948974],\n",
              "       [2.64575131, 2.82842712, 3.        ]])"
            ]
          },
          "execution_count": 92,
          "metadata": {},
          "output_type": "execute_result"
        }
      ],
      "source": [
        "np.sqrt(arr2d)"
      ]
    },
    {
      "cell_type": "code",
      "execution_count": null,
      "id": "6960ec03-4774-4098-9f79-31a09fb8350f",
      "metadata": {
        "id": "6960ec03-4774-4098-9f79-31a09fb8350f",
        "outputId": "de083d20-60f8-4d26-96ec-0cd770dbbb14"
      },
      "outputs": [
        {
          "data": {
            "text/plain": [
              "array([[3.        , 2.82842712, 2.64575131],\n",
              "       [0.        , 2.23606798, 2.        ],\n",
              "       [1.73205081, 1.41421356, 1.        ]])"
            ]
          },
          "execution_count": 93,
          "metadata": {},
          "output_type": "execute_result"
        }
      ],
      "source": [
        "np.sqrt(arr2d2)"
      ]
    },
    {
      "cell_type": "markdown",
      "id": "a1c61b3a-fca1-4d60-a305-b10877af3d52",
      "metadata": {
        "id": "a1c61b3a-fca1-4d60-a305-b10877af3d52"
      },
      "source": [
        "### How Numpy occupies less space than Python"
      ]
    },
    {
      "cell_type": "code",
      "execution_count": null,
      "id": "27066fb4-aeb2-4536-858a-0cb64532a713",
      "metadata": {
        "id": "27066fb4-aeb2-4536-858a-0cb64532a713"
      },
      "outputs": [],
      "source": [
        "import sys"
      ]
    },
    {
      "cell_type": "code",
      "execution_count": null,
      "id": "145ad239-7380-4219-afdf-f7a97bba327c",
      "metadata": {
        "id": "145ad239-7380-4219-afdf-f7a97bba327c"
      },
      "outputs": [],
      "source": [
        "py_arr = [1,2,3,4,5]"
      ]
    },
    {
      "cell_type": "code",
      "execution_count": null,
      "id": "2ab4c528-03e0-4a86-9854-f16484cc935a",
      "metadata": {
        "id": "2ab4c528-03e0-4a86-9854-f16484cc935a"
      },
      "outputs": [],
      "source": [
        "np_arr = np.array(py_arr)"
      ]
    },
    {
      "cell_type": "code",
      "execution_count": null,
      "id": "d8a5ea06-5f40-4a00-afd7-2dc677057c5d",
      "metadata": {
        "id": "d8a5ea06-5f40-4a00-afd7-2dc677057c5d",
        "outputId": "28db5eb3-5ef8-4774-b26a-4f3233e52e02"
      },
      "outputs": [
        {
          "name": "stdout",
          "output_type": "stream",
          "text": [
            "28\n",
            "5\n"
          ]
        },
        {
          "data": {
            "text/plain": [
              "140"
            ]
          },
          "execution_count": 97,
          "metadata": {},
          "output_type": "execute_result"
        }
      ],
      "source": [
        "print(sys.getsizeof(1))\n",
        "print(len(py_arr))\n",
        "sys.getsizeof(1) * len(py_arr)"
      ]
    },
    {
      "cell_type": "code",
      "execution_count": null,
      "id": "09a40bab-9b2b-4862-b735-5f45ca5d56e0",
      "metadata": {
        "id": "09a40bab-9b2b-4862-b735-5f45ca5d56e0",
        "outputId": "f2921aee-1463-4ab5-9c6f-262d6845e7f8"
      },
      "outputs": [
        {
          "name": "stdout",
          "output_type": "stream",
          "text": [
            "8\n",
            "5\n"
          ]
        },
        {
          "data": {
            "text/plain": [
              "40"
            ]
          },
          "execution_count": 98,
          "metadata": {},
          "output_type": "execute_result"
        }
      ],
      "source": [
        "print(np_arr.itemsize)\n",
        "print(np_arr.size)\n",
        "np_arr.itemsize * np_arr.size"
      ]
    }
  ],
  "metadata": {
    "kernelspec": {
      "display_name": "Python 3 (ipykernel)",
      "language": "python",
      "name": "python3"
    },
    "language_info": {
      "codemirror_mode": {
        "name": "ipython",
        "version": 3
      },
      "file_extension": ".py",
      "mimetype": "text/x-python",
      "name": "python",
      "nbconvert_exporter": "python",
      "pygments_lexer": "ipython3",
      "version": "3.13.0"
    },
    "colab": {
      "provenance": [],
      "include_colab_link": true
    }
  },
  "nbformat": 4,
  "nbformat_minor": 5
}